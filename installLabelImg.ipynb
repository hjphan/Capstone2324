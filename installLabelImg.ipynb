{
 "cells": [
  {
   "cell_type": "code",
   "execution_count": 3,
   "id": "c12b4ad4-7872-42f4-b0d2-f29c698c18f8",
   "metadata": {},
   "outputs": [
    {
     "name": "stdout",
     "output_type": "stream",
     "text": [
      "Channels:\n",
      " - defaults\n",
      "Platform: win-64\n",
      "Collecting package metadata (repodata.json): ...working... done\n",
      "Solving environment: ...working... done\n",
      "\n",
      "## Package Plan ##\n",
      "\n",
      "  environment location: C:\\Users\\admin\\miniconda3\\envs\\jupyter\n",
      "\n",
      "  added / updated specs:\n",
      "    - pyqt=5\n",
      "\n",
      "\n",
      "The following packages will be downloaded:\n",
      "\n",
      "    package                    |            build\n",
      "    ---------------------------|-----------------\n",
      "    openssl-3.0.13             |       h2bbff1b_0         7.4 MB\n",
      "    ------------------------------------------------------------\n",
      "                                           Total:         7.4 MB\n",
      "\n",
      "The following NEW packages will be INSTALLED:\n",
      "\n",
      "  bzip2              pkgs/main/win-64::bzip2-1.0.8-he774522_0 \n",
      "  ca-certificates    pkgs/main/win-64::ca-certificates-2023.12.12-haa95532_0 \n",
      "  expat              pkgs/main/win-64::expat-2.5.0-hd77b12b_0 \n",
      "  icu                pkgs/main/win-64::icu-73.1-h6c2663c_0 \n",
      "  jpeg               pkgs/main/win-64::jpeg-9e-h2bbff1b_1 \n",
      "  krb5               pkgs/main/win-64::krb5-1.20.1-h5b6d351_0 \n",
      "  libclang           pkgs/main/win-64::libclang-14.0.6-default_hb5a9fac_1 \n",
      "  libclang13         pkgs/main/win-64::libclang13-14.0.6-default_h8e68704_1 \n",
      "  libffi             pkgs/main/win-64::libffi-3.4.4-hd77b12b_0 \n",
      "  libpng             pkgs/main/win-64::libpng-1.6.39-h8cc25b3_0 \n",
      "  libpq              pkgs/main/win-64::libpq-12.17-h906ac69_0 \n",
      "  lz4-c              pkgs/main/win-64::lz4-c-1.9.4-h2bbff1b_0 \n",
      "  openssl            pkgs/main/win-64::openssl-3.0.13-h2bbff1b_0 \n",
      "  packaging          pkgs/main/win-64::packaging-23.1-py312haa95532_0 \n",
      "  pip                pkgs/main/win-64::pip-23.3.1-py312haa95532_0 \n",
      "  ply                pkgs/main/win-64::ply-3.11-py312haa95532_1 \n",
      "  pyqt               pkgs/main/win-64::pyqt-5.15.10-py312hd77b12b_0 \n",
      "  pyqt5-sip          pkgs/main/win-64::pyqt5-sip-12.13.0-py312h2bbff1b_0 \n",
      "  python             pkgs/main/win-64::python-3.12.1-h1d929f7_0 \n",
      "  qt-main            pkgs/main/win-64::qt-main-5.15.2-h19c9488_10 \n",
      "  setuptools         pkgs/main/win-64::setuptools-68.2.2-py312haa95532_0 \n",
      "  sip                pkgs/main/win-64::sip-6.7.12-py312hd77b12b_0 \n",
      "  sqlite             pkgs/main/win-64::sqlite-3.41.2-h2bbff1b_0 \n",
      "  tk                 pkgs/main/win-64::tk-8.6.12-h2bbff1b_0 \n",
      "  tzdata             pkgs/main/noarch::tzdata-2023d-h04d1e81_0 \n",
      "  vc                 pkgs/main/win-64::vc-14.2-h21ff451_1 \n",
      "  vs2015_runtime     pkgs/main/win-64::vs2015_runtime-14.27.29016-h5e58377_2 \n",
      "  wheel              pkgs/main/win-64::wheel-0.41.2-py312haa95532_0 \n",
      "  xz                 pkgs/main/win-64::xz-5.4.5-h8cc25b3_0 \n",
      "  zlib               pkgs/main/win-64::zlib-1.2.13-h8cc25b3_0 \n",
      "  zstd               pkgs/main/win-64::zstd-1.5.5-hd43e919_0 \n",
      "\n",
      "\n",
      "\n",
      "Downloading and Extracting Packages: ...working... done\n",
      "Preparing transaction: ...working... done\n",
      "Verifying transaction: ...working... done\n",
      "Executing transaction: ...working... done\n"
     ]
    }
   ],
   "source": [
    "!conda install pyqt=5 -y"
   ]
  },
  {
   "cell_type": "code",
   "execution_count": 4,
   "id": "697b5b7d-96b2-4018-bfdd-fa5a18373446",
   "metadata": {},
   "outputs": [
    {
     "name": "stdout",
     "output_type": "stream",
     "text": [
      "Channels:\n",
      " - anaconda\n",
      " - defaults\n",
      "Platform: win-64\n",
      "Collecting package metadata (repodata.json): ...working... done\n",
      "Solving environment: ...working... done\n",
      "\n",
      "## Package Plan ##\n",
      "\n",
      "  environment location: C:\\Users\\admin\\miniconda3\\envs\\jupyter\n",
      "\n",
      "  added / updated specs:\n",
      "    - lxml\n",
      "\n",
      "\n",
      "The following NEW packages will be INSTALLED:\n",
      "\n",
      "  libiconv           anaconda/win-64::libiconv-1.16-h2bbff1b_2 \n",
      "  libxml2            anaconda/win-64::libxml2-2.10.4-h0ad7f3c_1 \n",
      "  libxslt            anaconda/win-64::libxslt-1.1.37-h2bbff1b_1 \n",
      "  lxml               anaconda/win-64::lxml-4.9.3-py312h09808a7_0 \n",
      "\n",
      "\n",
      "\n",
      "Downloading and Extracting Packages: ...working... done\n",
      "Preparing transaction: ...working... done\n",
      "Verifying transaction: ...working... done\n",
      "Executing transaction: ...working... done\n"
     ]
    }
   ],
   "source": [
    "!conda install -c anaconda lxml -y"
   ]
  },
  {
   "cell_type": "code",
   "execution_count": 5,
   "id": "0873382e-e44a-4cb8-80a7-451807a1feb5",
   "metadata": {},
   "outputs": [
    {
     "name": "stdout",
     "output_type": "stream",
     "text": [
      "Channels:\n",
      " - anaconda\n",
      " - defaults\n",
      "Platform: win-64\n",
      "Collecting package metadata (repodata.json): ...working... done\n",
      "Solving environment: ...working... done\n",
      "\n",
      "## Package Plan ##\n",
      "\n",
      "  environment location: C:\\Users\\admin\\miniconda3\\envs\\jupyter\n",
      "\n",
      "  added / updated specs:\n",
      "    - git\n",
      "\n",
      "\n",
      "The following NEW packages will be INSTALLED:\n",
      "\n",
      "  git                anaconda/win-64::git-2.40.1-haa95532_1 \n",
      "\n",
      "\n",
      "\n",
      "Downloading and Extracting Packages: ...working... done\n",
      "Preparing transaction: ...working... done\n",
      "Verifying transaction: ...working... done\n",
      "Executing transaction: ...working... done\n"
     ]
    }
   ],
   "source": [
    "!conda install -c anaconda git -y"
   ]
  },
  {
   "cell_type": "code",
   "execution_count": 6,
   "id": "97f98fa1-d20a-404f-8d28-558d48d9c711",
   "metadata": {},
   "outputs": [
    {
     "name": "stderr",
     "output_type": "stream",
     "text": [
      "Cloning into 'labelImg'...\n"
     ]
    }
   ],
   "source": [
    "!git clone https://github.com/HumanSignal/labelImg"
   ]
  },
  {
   "cell_type": "code",
   "execution_count": 9,
   "id": "d6265dfd-b46c-4595-8271-112e49ea09ef",
   "metadata": {},
   "outputs": [
    {
     "name": "stdout",
     "output_type": "stream",
     "text": [
      "C:\\Users\\admin\\jLabelImg\\labelImg\n"
     ]
    },
    {
     "name": "stderr",
     "output_type": "stream",
     "text": [
      "C:\\Users\\admin\\miniconda3\\Lib\\site-packages\\IPython\\core\\magics\\osm.py:417: UserWarning: using dhist requires you to install the `pickleshare` library.\n",
      "  self.shell.db['dhist'] = compress_dhist(dhist)[-100:]\n"
     ]
    }
   ],
   "source": [
    "%cd labelImg"
   ]
  },
  {
   "cell_type": "code",
   "execution_count": 10,
   "id": "ab61a0a4-f8f9-43f7-bbb8-80a4a82b297b",
   "metadata": {},
   "outputs": [],
   "source": [
    "!pyrcc5 -o libs/resources.py resources.qrc"
   ]
  },
  {
   "cell_type": "code",
   "execution_count": 11,
   "id": "b9a2145c-c1ae-4784-8ba8-0beababab1f2",
   "metadata": {},
   "outputs": [
    {
     "name": "stdout",
     "output_type": "stream",
     "text": [
      "[('weed', [(132, 284), (158, 284), (158, 302), (132, 302)], None, None, False), ('cabbage', [(204, 327), (542, 327), (542, 480), (204, 480)], None, None, False), ('lettuce', [(612, 117), (640, 117), (640, 298), (612, 298)], None, None, False)]\n",
      "[('weed', [(132, 284), (158, 284), (158, 302), (132, 302)], None, None, False), ('cabbage', [(204, 327), (542, 327), (542, 480), (204, 480)], None, None, False), ('lettuce', [(612, 117), (640, 117), (640, 298), (612, 298)], None, None, False)]\n",
      "[('weed', [(132, 284), (158, 284), (158, 302), (132, 302)], None, None, False), ('cabbage', [(204, 327), (542, 327), (542, 480), (204, 480)], None, None, False), ('lettuce', [(612, 117), (640, 117), (640, 298), (612, 298)], None, None, False)]\n"
     ]
    },
    {
     "name": "stderr",
     "output_type": "stream",
     "text": [
      "QMimeDatabase: Error loading internal MIME data\n",
      "An error has been encountered at line 1 of <internal MIME data>: Premature end of document.:\n"
     ]
    }
   ],
   "source": [
    "!python labelImg.py C:\\Users\\admin\\capstone\\images C:\\Users\\admin\\capstone\\classes\\classesv1.txt"
   ]
  }
 ],
 "metadata": {
  "kernelspec": {
   "display_name": "Python 3 (ipykernel)",
   "language": "python",
   "name": "python3"
  },
  "language_info": {
   "codemirror_mode": {
    "name": "ipython",
    "version": 3
   },
   "file_extension": ".py",
   "mimetype": "text/x-python",
   "name": "python",
   "nbconvert_exporter": "python",
   "pygments_lexer": "ipython3",
   "version": "3.11.5"
  }
 },
 "nbformat": 4,
 "nbformat_minor": 5
}
